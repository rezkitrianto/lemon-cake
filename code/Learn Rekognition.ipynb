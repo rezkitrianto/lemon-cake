{
 "cells": [
  {
   "cell_type": "code",
   "execution_count": 15,
   "metadata": {
    "ExecuteTime": {
     "end_time": "2018-07-06T13:03:23.597304Z",
     "start_time": "2018-07-06T13:03:20.972719Z"
    },
    "scrolled": true
   },
   "outputs": [
    {
     "name": "stdout",
     "output_type": "stream",
     "text": [
      "{u'Labels': [{u'Confidence': 97.96441650390625, u'Name': u'Collage'}, {u'Confidence': 97.96441650390625, u'Name': u'Poster'}, {u'Confidence': 89.75334930419922, u'Name': u'Airmail'}, {u'Confidence': 89.75334930419922, u'Name': u'Envelope'}, {u'Confidence': 89.75334930419922, u'Name': u'Mail'}, {u'Confidence': 79.02539825439453, u'Name': u'Game'}, {u'Confidence': 79.02539825439453, u'Name': u'Jigsaw Puzzle'}, {u'Confidence': 74.2599868774414, u'Name': u'Brochure'}, {u'Confidence': 74.2599868774414, u'Name': u'Flyer'}, {u'Confidence': 74.2599868774414, u'Name': u'Paper'}, {u'Confidence': 54.416282653808594, u'Name': u'Greeting Card'}, {u'Confidence': 50.75767517089844, u'Name': u'Cushion'}, {u'Confidence': 50.75767517089844, u'Name': u'Home Decor'}, {u'Confidence': 50.57139587402344, u'Name': u'Art'}, {u'Confidence': 50.57139587402344, u'Name': u'Modern Art'}], 'ResponseMetadata': {'RetryAttempts': 0, 'HTTPStatusCode': 200, 'RequestId': 'f61e5334-811c-11e8-a58a-b5b070c92862', 'HTTPHeaders': {'date': 'Fri, 06 Jul 2018 13:03:23 GMT', 'x-amzn-requestid': 'f61e5334-811c-11e8-a58a-b5b070c92862', 'content-length': '800', 'content-type': 'application/x-amz-json-1.1', 'connection': 'keep-alive'}}, u'OrientationCorrection': u'ROTATE_0'}\n"
     ]
    }
   ],
   "source": [
    "import boto3, requests\n",
    "session = boto3.Session(profile_name='default')\n",
    "rekognition = session.client('rekognition')\n",
    "\n",
    "with open('../data/test.jpg', 'rb') as image:\n",
    "    response = rekognition.detect_labels(Image={'Bytes': image.read()})\n",
    "                           \n",
    "print(response)"
   ]
  }
 ],
 "metadata": {
  "kernelspec": {
   "display_name": "Python 2",
   "language": "python",
   "name": "python2"
  },
  "language_info": {
   "codemirror_mode": {
    "name": "ipython",
    "version": 2
   },
   "file_extension": ".py",
   "mimetype": "text/x-python",
   "name": "python",
   "nbconvert_exporter": "python",
   "pygments_lexer": "ipython2",
   "version": "2.7.14"
  },
  "toc": {
   "nav_menu": {},
   "number_sections": true,
   "sideBar": true,
   "skip_h1_title": false,
   "title_cell": "Table of Contents",
   "title_sidebar": "Contents",
   "toc_cell": false,
   "toc_position": {},
   "toc_section_display": true,
   "toc_window_display": false
  },
  "varInspector": {
   "cols": {
    "lenName": 16,
    "lenType": 16,
    "lenVar": 40
   },
   "kernels_config": {
    "python": {
     "delete_cmd_postfix": "",
     "delete_cmd_prefix": "del ",
     "library": "var_list.py",
     "varRefreshCmd": "print(var_dic_list())"
    },
    "r": {
     "delete_cmd_postfix": ") ",
     "delete_cmd_prefix": "rm(",
     "library": "var_list.r",
     "varRefreshCmd": "cat(var_dic_list()) "
    }
   },
   "types_to_exclude": [
    "module",
    "function",
    "builtin_function_or_method",
    "instance",
    "_Feature"
   ],
   "window_display": false
  }
 },
 "nbformat": 4,
 "nbformat_minor": 2
}
